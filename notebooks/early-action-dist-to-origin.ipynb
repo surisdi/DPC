{
 "cells": [
  {
   "cell_type": "code",
   "execution_count": 53,
   "metadata": {
    "ExecuteTime": {
     "end_time": "2020-11-02T15:55:03.753558Z",
     "start_time": "2020-11-02T15:55:03.747393Z"
    }
   },
   "outputs": [],
   "source": [
    "import torch\n",
    "import pickle\n",
    "import numpy as np\n",
    "import sys\n",
    "sys.path.append('../')\n",
    "from utils.poincare_distance import poincare_distance\n",
    "import os\n",
    "import imageio\n",
    "from IPython.display import display, Image\n",
    "from tqdm.notebook import tqdm\n",
    "import PIL.Image\n",
    "import seaborn as sns\n",
    "import matplotlib.pyplot as plt\n",
    "import geoopt"
   ]
  },
  {
   "cell_type": "markdown",
   "metadata": {},
   "source": [
    "## early action"
   ]
  },
  {
   "cell_type": "code",
   "execution_count": 2,
   "metadata": {
    "ExecuteTime": {
     "end_time": "2020-11-02T15:27:36.008005Z",
     "start_time": "2020-11-02T15:27:33.063484Z"
    }
   },
   "outputs": [],
   "source": [
    "embed_path = '/proj/vondrick/didac/code/DPC/logs/log_train_earlyaction_hyper_v1_poincare_kinetics_lr4/20201023_151021/embeds/model_best_epoch31_embeds.pkl'\n",
    "f = open(embed_path,\"rb\")\n",
    "feature_dict = pickle.load(f)\n",
    "pred = feature_dict['pred']\n",
    "\n",
    "dist_list = []\n",
    "for i in range(pred.shape[1]):\n",
    "    manif = geoopt.manifolds.PoincareBall(c=1)\n",
    "    pred_step = pred[:, i, :]\n",
    "    dist = manif.dist(pred_step, torch.zeros_like(pred_step))\n",
    "    dist_list.append(dist)\n",
    "dist_list = torch.stack(dist_list)\n",
    "\n",
    "mean = torch.mean(dist_list, dim=1).numpy()\n",
    "std = torch.std(dist_list, dim=1).numpy()\n",
    "\n",
    "dist_list = dist_list.numpy()"
   ]
  },
  {
   "cell_type": "code",
   "execution_count": 49,
   "metadata": {
    "ExecuteTime": {
     "end_time": "2020-11-02T15:53:36.705892Z",
     "start_time": "2020-11-02T15:53:34.925828Z"
    }
   },
   "outputs": [],
   "source": [
    "fig, ax = plt.subplots()\n",
    "ax.bar(np.arange(len(mean)), mean, yerr=std, align='center', alpha=0.5, ecolor='black', capsize=10)\n",
    "ax.set_ylabel('Distance to origin of predicted embedding', fontsize=11)\n",
    "ax.set_xticks(np.arange(len(mean)))\n",
    "ax.set_xticklabels(np.arange(len(mean))+1)\n",
    "ax.set_xlabel('Clips seen during prediction', fontsize=13)\n",
    "ax.yaxis.grid(True)\n",
    "ax.set_ylim([2.2, 2.9])\n",
    "\n",
    "# Save the figure and show\n",
    "plt.tight_layout()\n",
    "plt.savefig('bar_plot_with_error_bars.png')\n",
    "plt.show()"
   ]
  },
  {
   "cell_type": "markdown",
   "metadata": {},
   "source": [
    "## subaction"
   ]
  },
  {
   "cell_type": "code",
   "execution_count": 78,
   "metadata": {
    "ExecuteTime": {
     "end_time": "2020-11-02T16:13:45.739802Z",
     "start_time": "2020-11-02T16:13:42.719778Z"
    }
   },
   "outputs": [],
   "source": [
    "embed_path = '/proj/vondrick/didac/code/DPC/logs/log_train_dpc_hyper_v1_poincare_kinetics/20201019_195227/embeds/model_best_epoch159_embeds.pkl'\n",
    "f = open(embed_path,\"rb\")\n",
    "feature_dict = pickle.load(f)\n",
    "pred = feature_dict['pred']\n",
    "\n",
    "dist_list = []\n",
    "for i in range(pred.shape[1]):\n",
    "    manif = geoopt.manifolds.PoincareBall(c=1)\n",
    "    pred_step = pred[:, i, :]\n",
    "    dist = manif.dist(pred_step, torch.zeros_like(pred_step))\n",
    "    dist_list.append(dist)\n",
    "dist_list = torch.stack(dist_list)\n",
    "\n",
    "mean = torch.mean(dist_list, dim=1).numpy()\n",
    "std = torch.std(dist_list, dim=1).numpy()\n",
    "\n",
    "dist_list = dist_list.numpy()"
   ]
  },
  {
   "cell_type": "code",
   "execution_count": 84,
   "metadata": {
    "ExecuteTime": {
     "end_time": "2020-11-02T16:14:54.878502Z",
     "start_time": "2020-11-02T16:14:54.690801Z"
    }
   },
   "outputs": [
    {
     "data": {
      "image/png": "[encoded data removed]",
      "text/plain": [
       "<Figure size 432x288 with 1 Axes>"
      ]
     },
     "metadata": {
      "needs_background": "light"
     },
     "output_type": "display_data"
    }
   ],
   "source": [
    "fig, ax = plt.subplots()\n",
    "ax.bar(np.arange(len(mean)), mean, yerr=std, align='center', alpha=0.5, ecolor='black', capsize=10)\n",
    "ax.set_ylabel('Distance to origin of predicted embedding', fontsize=11)\n",
    "ax.set_xticks(np.arange(len(mean)))\n",
    "ax.set_xticklabels(np.arange(len(mean))+1)\n",
    "ax.set_xlabel('Number of predicted step into the future', fontsize=13)\n",
    "ax.yaxis.grid(True)\n",
    "ax.set_ylim([1.5, 3.0])\n",
    "\n",
    "# Save the figure and show\n",
    "plt.tight_layout()\n",
    "plt.savefig('bar_plot_with_error_bars.png')\n",
    "plt.show()"
   ]
  },
  {
   "cell_type": "code",
   "execution_count": null,
   "metadata": {},
   "outputs": [],
   "source": []
  }
 ],
 "metadata": {
  "kernelspec": {
   "display_name": "Python 3",
   "language": "python",
   "name": "python3"
  },
  "language_info": {
   "codemirror_mode": {
    "name": "ipython",
    "version": 3
   },
   "file_extension": ".py",
   "mimetype": "text/x-python",
   "name": "python",
   "nbconvert_exporter": "python",
   "pygments_lexer": "ipython3",
   "version": "3.7.4"
  },
  "toc": {
   "base_numbering": 1,
   "nav_menu": {},
   "number_sections": true,
   "sideBar": true,
   "skip_h1_title": false,
   "title_cell": "Table of Contents",
   "title_sidebar": "Contents",
   "toc_cell": false,
   "toc_position": {},
   "toc_section_display": true,
   "toc_window_display": false
  }
 },
 "nbformat": 4,
 "nbformat_minor": 4
}
